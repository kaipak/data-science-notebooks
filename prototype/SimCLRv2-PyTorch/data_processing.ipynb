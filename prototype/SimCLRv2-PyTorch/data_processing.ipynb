{
 "cells": [
  {
   "cell_type": "markdown",
   "id": "ee2a6102-2ad7-487f-a5ee-03ec75727408",
   "metadata": {},
   "source": [
    "# CLOVER Data Processing Development\n",
    "Notebook for data processing we'll need to run models for CLOVER."
   ]
  },
  {
   "cell_type": "code",
   "execution_count": 44,
   "id": "59822a76-4d7e-4d10-9b09-8d21884d75bb",
   "metadata": {},
   "outputs": [
    {
     "name": "stdout",
     "output_type": "stream",
     "text": [
      "The autoreload extension is already loaded. To reload it, use:\n",
      "  %reload_ext autoreload\n"
     ]
    }
   ],
   "source": [
    "%load_ext autoreload\n",
    "%autoreload 2\n",
    "%matplotlib inline\n"
   ]
  },
  {
   "cell_type": "code",
   "execution_count": 45,
   "id": "488cbd0e-22cc-42f8-b046-538bc52bc569",
   "metadata": {},
   "outputs": [],
   "source": [
    "import pandas as pd\n",
    "import os\n",
    "import sys\n",
    "from torchvision.datasets import ImageFolder\n",
    "\n",
    "\n",
    "sys.path.append('/Users/kaipak/dev/clover_datasets/src/')\n",
    "from datasets import CloverDatasets"
   ]
  },
  {
   "cell_type": "code",
   "execution_count": 46,
   "id": "7d2d7f09-aed4-4679-9142-cab9a801f79b",
   "metadata": {},
   "outputs": [
    {
     "name": "stderr",
     "output_type": "stream",
     "text": [
      "/Users/kaipak/miniconda3/envs/kai/lib/python3.9/site-packages/pandas/util/_decorators.py:311: ParserWarning: Falling back to the 'python' engine because the 'c' engine does not support regex separators (separators > 1 char and different from '\\s+' are interpreted as regex); you can avoid this warning by specifying engine='python'.\n",
      "  return func(*args, **kwargs)\n"
     ]
    },
    {
     "data": {
      "text/html": [
       "<div>\n",
       "<style scoped>\n",
       "    .dataframe tbody tr th:only-of-type {\n",
       "        vertical-align: middle;\n",
       "    }\n",
       "\n",
       "    .dataframe tbody tr th {\n",
       "        vertical-align: top;\n",
       "    }\n",
       "\n",
       "    .dataframe thead th {\n",
       "        text-align: right;\n",
       "    }\n",
       "</style>\n",
       "<table border=\"1\" class=\"dataframe\">\n",
       "  <thead>\n",
       "    <tr style=\"text-align: right;\">\n",
       "      <th></th>\n",
       "      <th>idx</th>\n",
       "      <th>name</th>\n",
       "    </tr>\n",
       "  </thead>\n",
       "  <tbody>\n",
       "    <tr>\n",
       "      <th>0</th>\n",
       "      <td>0</td>\n",
       "      <td>apxs</td>\n",
       "    </tr>\n",
       "    <tr>\n",
       "      <th>1</th>\n",
       "      <td>1</td>\n",
       "      <td>apxs cal target</td>\n",
       "    </tr>\n",
       "    <tr>\n",
       "      <th>2</th>\n",
       "      <td>2</td>\n",
       "      <td>chemcam cal target</td>\n",
       "    </tr>\n",
       "    <tr>\n",
       "      <th>3</th>\n",
       "      <td>3</td>\n",
       "      <td>chemin inlet open</td>\n",
       "    </tr>\n",
       "    <tr>\n",
       "      <th>4</th>\n",
       "      <td>4</td>\n",
       "      <td>drill</td>\n",
       "    </tr>\n",
       "    <tr>\n",
       "      <th>5</th>\n",
       "      <td>5</td>\n",
       "      <td>drill holes</td>\n",
       "    </tr>\n",
       "    <tr>\n",
       "      <th>6</th>\n",
       "      <td>6</td>\n",
       "      <td>drt front</td>\n",
       "    </tr>\n",
       "    <tr>\n",
       "      <th>7</th>\n",
       "      <td>7</td>\n",
       "      <td>drt side</td>\n",
       "    </tr>\n",
       "    <tr>\n",
       "      <th>8</th>\n",
       "      <td>8</td>\n",
       "      <td>ground</td>\n",
       "    </tr>\n",
       "    <tr>\n",
       "      <th>9</th>\n",
       "      <td>9</td>\n",
       "      <td>horizon</td>\n",
       "    </tr>\n",
       "    <tr>\n",
       "      <th>10</th>\n",
       "      <td>10</td>\n",
       "      <td>inlet</td>\n",
       "    </tr>\n",
       "    <tr>\n",
       "      <th>11</th>\n",
       "      <td>11</td>\n",
       "      <td>mahli</td>\n",
       "    </tr>\n",
       "    <tr>\n",
       "      <th>12</th>\n",
       "      <td>12</td>\n",
       "      <td>mahli cal target</td>\n",
       "    </tr>\n",
       "    <tr>\n",
       "      <th>13</th>\n",
       "      <td>13</td>\n",
       "      <td>mastcam</td>\n",
       "    </tr>\n",
       "    <tr>\n",
       "      <th>14</th>\n",
       "      <td>14</td>\n",
       "      <td>mastcam cal target</td>\n",
       "    </tr>\n",
       "    <tr>\n",
       "      <th>15</th>\n",
       "      <td>15</td>\n",
       "      <td>observation tray</td>\n",
       "    </tr>\n",
       "    <tr>\n",
       "      <th>16</th>\n",
       "      <td>16</td>\n",
       "      <td>portion box</td>\n",
       "    </tr>\n",
       "    <tr>\n",
       "      <th>17</th>\n",
       "      <td>17</td>\n",
       "      <td>portion tube</td>\n",
       "    </tr>\n",
       "    <tr>\n",
       "      <th>18</th>\n",
       "      <td>18</td>\n",
       "      <td>portion tube opening</td>\n",
       "    </tr>\n",
       "    <tr>\n",
       "      <th>19</th>\n",
       "      <td>19</td>\n",
       "      <td>rems uv sensor</td>\n",
       "    </tr>\n",
       "    <tr>\n",
       "      <th>20</th>\n",
       "      <td>20</td>\n",
       "      <td>rover rear deck</td>\n",
       "    </tr>\n",
       "    <tr>\n",
       "      <th>21</th>\n",
       "      <td>21</td>\n",
       "      <td>scoop</td>\n",
       "    </tr>\n",
       "    <tr>\n",
       "      <th>22</th>\n",
       "      <td>22</td>\n",
       "      <td>sun</td>\n",
       "    </tr>\n",
       "    <tr>\n",
       "      <th>23</th>\n",
       "      <td>23</td>\n",
       "      <td>turret</td>\n",
       "    </tr>\n",
       "    <tr>\n",
       "      <th>24</th>\n",
       "      <td>24</td>\n",
       "      <td>wheel</td>\n",
       "    </tr>\n",
       "  </tbody>\n",
       "</table>\n",
       "</div>"
      ],
      "text/plain": [
       "    idx                  name\n",
       "0     0                  apxs\n",
       "1     1       apxs cal target\n",
       "2     2    chemcam cal target\n",
       "3     3     chemin inlet open\n",
       "4     4                 drill\n",
       "5     5           drill holes\n",
       "6     6             drt front\n",
       "7     7              drt side\n",
       "8     8                ground\n",
       "9     9               horizon\n",
       "10   10                 inlet\n",
       "11   11                 mahli\n",
       "12   12      mahli cal target\n",
       "13   13               mastcam\n",
       "14   14    mastcam cal target\n",
       "15   15      observation tray\n",
       "16   16           portion box\n",
       "17   17          portion tube\n",
       "18   18  portion tube opening\n",
       "19   19        rems uv sensor\n",
       "20   20       rover rear deck\n",
       "21   21                 scoop\n",
       "22   22                   sun\n",
       "23   23                turret\n",
       "24   24                 wheel"
      ]
     },
     "execution_count": 46,
     "metadata": {},
     "output_type": "execute_result"
    }
   ],
   "source": [
    "df = pd.read_csv(r\"/Users/kaipak/dev/clover_datasets/metadata/msl/msl_synset_words-indexed.txt\", \n",
    "                 names=['idx', 'name'], delimiter='\\s{4,}', index_col=False)\n",
    "df"
   ]
  },
  {
   "cell_type": "code",
   "execution_count": 50,
   "id": "f30b1275-ed5e-45f4-8ce1-33b60bececdd",
   "metadata": {},
   "outputs": [
    {
     "name": "stdout",
     "output_type": "stream",
     "text": [
      "Setting up CloverDatasets with /Users/kaipak/datasets/CLOVER/ as input source and /Users/kaipak/datasets/CLOVER/processed for output.\n",
      "\n",
      "Deleting existing dataset at /Users/kaipak/datasets/CLOVER/processed/msl_dataset\n",
      "\n",
      "MSLv2 training dataset summary:\n",
      " 3     1398\n",
      "4     1279\n",
      "2      612\n",
      "7      307\n",
      "8      226\n",
      "14     205\n",
      "6      192\n",
      "16     190\n",
      "1      171\n",
      "11     163\n",
      "15     163\n",
      "10     136\n",
      "13     109\n",
      "17      55\n",
      "12      37\n",
      "9       36\n",
      "18      23\n",
      "0        9\n",
      "5        7\n",
      "Name: label, dtype: int64\n"
     ]
    }
   ],
   "source": [
    "foo = CloverDatasets(data_path='/Users/kaipak/datasets/CLOVER/',\n",
    "                     out_path='/Users/kaipak/datasets/CLOVER/processed')\n",
    "foo.generate_mslv2_dataset(train_file='/Users/kaipak/dev/clover_datasets/metadata/msl/90pctTrain.txt')"
   ]
  },
  {
   "cell_type": "code",
   "execution_count": null,
   "id": "73a959b3-5612-4b01-b68a-6ea4c7097c01",
   "metadata": {},
   "outputs": [],
   "source": [
    "df = pd.read_csv('/Users/kaipak/datasets/CLOVER/msl-labeled-data-set-v2.1/90pctTrain.txt',\n",
    "                sep='\\t', names=['img', 'label'])"
   ]
  },
  {
   "cell_type": "code",
   "execution_count": 18,
   "id": "e7fff842-5082-475c-b560-f2a7e6467b66",
   "metadata": {},
   "outputs": [
    {
     "name": "stderr",
     "output_type": "stream",
     "text": [
      "/Users/kaipak/miniconda3/envs/kai/lib/python3.9/site-packages/pandas/util/_decorators.py:311: ParserWarning: Falling back to the 'python' engine because the 'c' engine does not support regex separators (separators > 1 char and different from '\\s+' are interpreted as regex); you can avoid this warning by specifying engine='python'.\n",
      "  return func(*args, **kwargs)\n"
     ]
    }
   ],
   "source": [
    "df = pd.read_csv('/Users/kaipak/dev/clover_datasets/metadata/msl/train-set-v2.1.txt',\n",
    "                 delimiter='\\s', names=['foo', 'bar'])"
   ]
  },
  {
   "cell_type": "code",
   "execution_count": 33,
   "id": "82988eea-b0e6-4461-ab42-64524360c1fe",
   "metadata": {},
   "outputs": [
    {
     "data": {
      "text/plain": [
       "array([ 2,  4, 15,  3,  7,  9,  1,  6, 11, 14, 16, 17,  8, 12, 13, 10,  0,\n",
       "       18,  5])"
      ]
     },
     "execution_count": 33,
     "metadata": {},
     "output_type": "execute_result"
    }
   ],
   "source": [
    "df.bar.unique()"
   ]
  },
  {
   "cell_type": "code",
   "execution_count": 38,
   "id": "8938bc5b-8e9b-4cd2-b8de-3b12af88d1f1",
   "metadata": {},
   "outputs": [
    {
     "ename": "TypeError",
     "evalue": "make_dataset() missing 1 required positional argument: 'directory'",
     "output_type": "error",
     "traceback": [
      "\u001b[0;31m---------------------------------------------------------------------------\u001b[0m",
      "\u001b[0;31mTypeError\u001b[0m                                 Traceback (most recent call last)",
      "\u001b[0;32m/var/folders/1y/9ndq9fyj33d9xdqgm6r3jtfw0000gq/T/ipykernel_48590/2945928258.py\u001b[0m in \u001b[0;36m<module>\u001b[0;34m\u001b[0m\n\u001b[1;32m      1\u001b[0m \u001b[0mfoo\u001b[0m \u001b[0;34m=\u001b[0m \u001b[0mImageFolder\u001b[0m\u001b[0;34m(\u001b[0m\u001b[0;34m'/Users/kaipak/datasets/CLOVER/processed/msl_dataset/train/'\u001b[0m\u001b[0;34m)\u001b[0m\u001b[0;34m\u001b[0m\u001b[0;34m\u001b[0m\u001b[0m\n\u001b[0;32m----> 2\u001b[0;31m \u001b[0mfoo\u001b[0m\u001b[0;34m.\u001b[0m\u001b[0mmake_dataset\u001b[0m\u001b[0;34m(\u001b[0m\u001b[0mclass_to_idx\u001b[0m\u001b[0;34m=\u001b[0m\u001b[0;34m'/Users/kaipak/dev/clover_datasets/metadata/msl/msl_synset_words-indexed.txt'\u001b[0m\u001b[0;34m)\u001b[0m\u001b[0;34m\u001b[0m\u001b[0;34m\u001b[0m\u001b[0m\n\u001b[0m",
      "\u001b[0;31mTypeError\u001b[0m: make_dataset() missing 1 required positional argument: 'directory'"
     ]
    }
   ],
   "source": [
    "foo = ImageFolder('/Users/kaipak/datasets/CLOVER/processed/msl_dataset/train/')\n",
    "foo.make_dataset(class_to_idx='/Users/kaipak/dev/clover_datasets/metadata/msl/msl_synset_words-indexed.txt')"
   ]
  },
  {
   "cell_type": "code",
   "execution_count": 37,
   "id": "2f2ac1d2-41f9-4da2-b3ff-c7b473faec00",
   "metadata": {},
   "outputs": [
    {
     "data": {
      "text/plain": [
       "['class_0',\n",
       " 'class_1',\n",
       " 'class_10',\n",
       " 'class_11',\n",
       " 'class_12',\n",
       " 'class_13',\n",
       " 'class_14',\n",
       " 'class_15',\n",
       " 'class_16',\n",
       " 'class_17',\n",
       " 'class_18',\n",
       " 'class_2',\n",
       " 'class_3',\n",
       " 'class_4',\n",
       " 'class_5',\n",
       " 'class_6',\n",
       " 'class_7',\n",
       " 'class_8',\n",
       " 'class_9']"
      ]
     },
     "execution_count": 37,
     "metadata": {},
     "output_type": "execute_result"
    }
   ],
   "source": [
    "foo.classes"
   ]
  },
  {
   "cell_type": "code",
   "execution_count": null,
   "id": "d1b7117d-cb9e-4a10-9a88-86f7ca713540",
   "metadata": {},
   "outputs": [],
   "source": []
  }
 ],
 "metadata": {
  "kernelspec": {
   "display_name": "kai",
   "language": "python",
   "name": "kai"
  },
  "language_info": {
   "codemirror_mode": {
    "name": "ipython",
    "version": 3
   },
   "file_extension": ".py",
   "mimetype": "text/x-python",
   "name": "python",
   "nbconvert_exporter": "python",
   "pygments_lexer": "ipython3",
   "version": "3.9.10"
  }
 },
 "nbformat": 4,
 "nbformat_minor": 5
}
