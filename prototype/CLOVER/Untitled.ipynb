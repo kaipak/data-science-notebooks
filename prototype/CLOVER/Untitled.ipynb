{
 "cells": [
  {
   "cell_type": "code",
   "execution_count": 8,
   "id": "986ca058-cf37-480e-a1b2-8f29d1a7587a",
   "metadata": {},
   "outputs": [],
   "source": [
    "from PIL import Image\n",
    "from torchvision import transforms"
   ]
  },
  {
   "cell_type": "code",
   "execution_count": 4,
   "id": "ba8954eb-a608-46b2-b7a5-a5591d0220f8",
   "metadata": {},
   "outputs": [],
   "source": [
    "foo = Image.open(\"/Users/kaipak/datasets/hirise-map-proj-v3_2/map-proj-v3_2/ESP_011283_2265_RED-0013-fh.jpg\")"
   ]
  },
  {
   "cell_type": "code",
   "execution_count": 9,
   "id": "a80e2c75-2268-48c0-8553-7f3660a5111c",
   "metadata": {},
   "outputs": [],
   "source": [
    "bar = transforms.ToTensor()(foo)"
   ]
  },
  {
   "cell_type": "code",
   "execution_count": 11,
   "id": "2f7d7be4-4707-46d9-93d3-8d09c985e167",
   "metadata": {},
   "outputs": [
    {
     "data": {
      "text/plain": [
       "torch.Size([1, 227, 227])"
      ]
     },
     "execution_count": 11,
     "metadata": {},
     "output_type": "execute_result"
    }
   ],
   "source": [
    "bar.shape"
   ]
  },
  {
   "cell_type": "code",
   "execution_count": 12,
   "id": "58525133-434e-40c2-ae2a-0b4457483ca5",
   "metadata": {},
   "outputs": [
    {
     "data": {
      "text/plain": [
       "torch.Tensor"
      ]
     },
     "execution_count": 12,
     "metadata": {},
     "output_type": "execute_result"
    }
   ],
   "source": [
    "type(bar)"
   ]
  },
  {
   "cell_type": "code",
   "execution_count": 13,
   "id": "9456e71b-8de4-481e-8e8c-b981b2f1c2ec",
   "metadata": {},
   "outputs": [
    {
     "data": {
      "text/plain": [
       "PIL.JpegImagePlugin.JpegImageFile"
      ]
     },
     "execution_count": 13,
     "metadata": {},
     "output_type": "execute_result"
    }
   ],
   "source": [
    "type(foo)"
   ]
  },
  {
   "cell_type": "code",
   "execution_count": null,
   "id": "b8c3f812-6c2d-4ef1-9075-85f6dbc21903",
   "metadata": {},
   "outputs": [],
   "source": []
  }
 ],
 "metadata": {
  "kernelspec": {
   "display_name": "kai",
   "language": "python",
   "name": "kai"
  },
  "language_info": {
   "codemirror_mode": {
    "name": "ipython",
    "version": 3
   },
   "file_extension": ".py",
   "mimetype": "text/x-python",
   "name": "python",
   "nbconvert_exporter": "python",
   "pygments_lexer": "ipython3",
   "version": "3.9.10"
  }
 },
 "nbformat": 4,
 "nbformat_minor": 5
}
