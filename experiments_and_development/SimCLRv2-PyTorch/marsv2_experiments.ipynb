{
 "cells": [
  {
   "cell_type": "code",
   "execution_count": 1,
   "id": "145e3859-5288-46c9-a0bf-5a8f79fb0b78",
   "metadata": {},
   "outputs": [],
   "source": [
    "%load_ext autoreload\n",
    "%autoreload 2\n",
    "%matplotlib inline"
   ]
  },
  {
   "cell_type": "code",
   "execution_count": 2,
   "id": "ef848469-efdb-41f6-9f54-830176112453",
   "metadata": {},
   "outputs": [],
   "source": [
    "import os\n",
    "import sys\n",
    "import argparse\n",
    "import datetime\n",
    "import shutil\n",
    "from pprint import pprint\n",
    "from pathlib import Path\n",
    "from GPUtil import showUtilization\n",
    "\n",
    "import pandas as pd\n",
    "import numpy as np\n",
    "import torch\n",
    "import torch.nn as nn\n",
    "import torchvision\n",
    "import numpy as np\n",
    "from torch.utils.tensorboard import SummaryWriter\n",
    "from sklearn.model_selection import train_test_split\n",
    "\n",
    "sys.path.insert(0, '../../../SimCLRv2-PyTorch/')\n",
    "\n",
    "from utils.model import save_model, load_optimizer\n",
    "from simclr.modules import LogisticRegression\n",
    "from simclr import SimCLRv2, SimCLRv2_ft\n",
    "from simclr.modules import get_resnet, NT_Xent\n",
    "from simclr.modules.transformations import TransformsSimCLR\n",
    "from utils import yaml_config_hook\n",
    "from utils.img_dataset_utils import *"
   ]
  },
  {
   "cell_type": "code",
   "execution_count": 3,
   "id": "ad8d6833-d76a-4bbf-8570-649373a3f817",
   "metadata": {},
   "outputs": [],
   "source": [
    "simclr_repo = Path('/home/kaipak/dev/SimCLRv2-PyTorch/')\n",
    "parser = argparse.ArgumentParser(description=\"SimCLR\")\n",
    "config = yaml_config_hook('simclrv2_config_marsv2.yaml')\n",
    "tb_out = Path('/home/kaipak/models/tensorboard_logs')\n",
    "\n",
    "for k, v in config.items():\n",
    "    parser.add_argument(f\"--{k}\", default=v, type=type(v))\n",
    "    \n",
    "args = parser.parse_args([])\n",
    "args.device = torch.device(\"cuda\") if torch.cuda.is_available() else torch.device(\"cpu\")"
   ]
  },
  {
   "cell_type": "code",
   "execution_count": 4,
   "id": "f4cd0470-73cc-489a-8140-b6951e2e8c03",
   "metadata": {},
   "outputs": [
    {
     "data": {
      "text/plain": [
       "{'nodes': 1,\n",
       " 'gpus': 4,\n",
       " 'nr': 0,\n",
       " 'dataparallel': 0,\n",
       " 'workers': 32,\n",
       " 'dataset_dir': '/home/kaipak/datasets',\n",
       " 'seed': 42,\n",
       " 'batch_size': 128,\n",
       " 'image_size': 224,\n",
       " 'start_epoch': 0,\n",
       " 'epochs': 100,\n",
       " 'pretrain': True,\n",
       " 'optimizer': 'LARS',\n",
       " 'weight_decay': 1e-06,\n",
       " 'temperature': 0.5,\n",
       " 'model_path': '/home/kaipak/models/SimCLRv2/save',\n",
       " 'epoch_num': 100,\n",
       " 'reload': False}"
      ]
     },
     "execution_count": 4,
     "metadata": {},
     "output_type": "execute_result"
    }
   ],
   "source": [
    "config"
   ]
  },
  {
   "cell_type": "markdown",
   "id": "e4f2d248-e72c-4212-890b-04a98840e471",
   "metadata": {},
   "source": [
    "# Data\n",
    "Data collected from Zenodo: https://zenodo.org/record/4033453"
   ]
  },
  {
   "cell_type": "code",
   "execution_count": 5,
   "id": "3272fc26-c402-40ab-aaf9-8dda90437c5a",
   "metadata": {},
   "outputs": [],
   "source": [
    "# Set up some data structures we'll need\n",
    "def text2df(filename, sep=r'\\s+', names=['img', 'label'], df_desc=None, label_set=None, drop_other=False):\n",
    "  \"\"\"Get dataframes from label text\"\"\"\n",
    "  df = pd.read_csv(filename, sep=sep, header=None, names=names, index_col=None, engine='python')\n",
    "  if df_desc is not None:\n",
    "    df = pd.merge(df, df_desc, on='label', how=\"left\", sort=False)\n",
    "  if label_set is not None:\n",
    "    df['label_set'] = label_set\n",
    "    df['img'] = df['img'].str.replace('calibrated/', '')\n",
    "  if drop_other:\n",
    "    df = df.loc[~df.label_desc.isin([\"Other rover part\", \"Artifact\"])]\n",
    "  return df\n",
    "\n",
    "def summarize(df, proportion=True):\n",
    "  \"\"\"Summary proportion of datasets\"\"\"\n",
    "  \n",
    "  if proportion:\n",
    "    df_sum = df.groupby(by=['label_desc']).size().to_frame(name=\"proportion\")\n",
    "    df_sum['proportion'] /= df.shape[0]\n",
    "  else:\n",
    "    df_sum = df.groupby(by=['label_desc']).size().to_frame(name=\"count\")\n",
    "  return df_sum.reset_index()\n",
    "\n",
    "\n",
    "def generate_weights(train):\n",
    "    \"\"\"Based on the training set distribution, compute weights for crossentropyloss\"\"\"\n",
    "    counts = train.groupby(by='label').size().to_frame('class_count').reset_index()\n",
    "    weights = list(counts['class_count'])\n",
    "    weights = torch.FloatTensor(1.0 / (weights / np.sum(weights)))\n",
    "    \n",
    "    return weights\n",
    "\n",
    "def get_pct_split(percent: int, X, y, total_sample_count: int, seed: int = 123):\n",
    "    \"\"\"Extract a stratified N% split from the provided dataset (X) based on labels (y).\n",
    "\n",
    "    Parameters\n",
    "    ----------\n",
    "    percent : int\n",
    "        Percentage of the FULL dataset to extract.\n",
    "        (FULL in this case means train+test+val)\n",
    "        N_extracted = percent/100 * total_sample_count\n",
    "    X : Iterable\n",
    "        Typically the full training set from which samples are extracted.\n",
    "        We use the training set to generate splits in order to exclude test examples.\n",
    "    y : Iterable\n",
    "        Labels corresponding to X. Used to generate stratified samples\n",
    "    total_sample_count : int\n",
    "        Total size of the FULL dataset (train + test + val)\n",
    "    seed : int, optional\n",
    "        Random state to shuffle data before splitting, by default 123\n",
    "\n",
    "    Returns\n",
    "    -------\n",
    "    X_split : Iterable\n",
    "        Stratified subset of the provided X\n",
    "        len(X_split) == int(percent/100 * total_sample_count)\n",
    "    \"\"\"\n",
    "    if total_sample_count is None:\n",
    "        total_sample_count = len(X)\n",
    "\n",
    "    num_images_pct = int((percent / 100) * total_sample_count)\n",
    "    ratio = num_images_pct / len(X)\n",
    "    inv_ratio = (len(X) - num_images_pct) / len(X)\n",
    "    print(len(X))\n",
    "    X_split, _ = train_test_split(X, train_size=ratio, \n",
    "                                  test_size=inv_ratio, \n",
    "                                  stratify=y, random_state=seed,\n",
    "    )\n",
    "    print(\n",
    "        f\"Extracted {percent}% (N={len(X_split)}) \"\n",
    "        f\"of full sample {total_sample_count} from \"\n",
    "        f\"provided subset of size {len(X)} \"\n",
    "        f\"({ratio*100:.2f}% of subset)\"\n",
    "    )\n",
    "    return X_split"
   ]
  },
  {
   "cell_type": "code",
   "execution_count": 6,
   "id": "a022e69f-55a7-44da-9703-c3df2177c8e4",
   "metadata": {},
   "outputs": [],
   "source": [
    "BASE_PATH = Path('/home/kaipak/datasets/msl-labeled-data-set-v2.1/')\n",
    "BASE_IMG_PATH = BASE_PATH / 'images'\n",
    "PROC_IMG_PATH = Path('/home/kaipak/datasets/msl-labeled-data-set-v2.1-processed')\n",
    "\n",
    "IMG_ALL      = Path(BASE_IMG_PATH)\n",
    "LABEL_DESC   = pd.read_csv(f'{BASE_PATH}/class_map.csv', names=['label', 'label_desc'])\n",
    "TEST_LABELS  = text2df(f'{BASE_PATH}/test-set-v2.1.txt', df_desc=LABEL_DESC, label_set=\"test\")\n",
    "TRAIN_LABELS = text2df(f'{BASE_PATH}/train-set-v2.1.txt', df_desc=LABEL_DESC, label_set=\"train\")\n",
    "VAL_LABELS   = text2df(f'{BASE_PATH}/val-set-v2.1.txt', df_desc=LABEL_DESC, label_set=\"validation\")\n",
    "ALL_LABELS   = pd.concat([TEST_LABELS, TRAIN_LABELS, VAL_LABELS])"
   ]
  },
  {
   "cell_type": "code",
   "execution_count": 7,
   "id": "c7536f60-80c9-410f-9b3d-ee9904be3075",
   "metadata": {},
   "outputs": [
    {
     "data": {
      "text/plain": [
       "array([592.        ,  31.15789474,   8.70588235,   3.80952381,\n",
       "         4.16315049, 740.        ,  27.6635514 ,  17.30994152,\n",
       "        23.49206349, 148.        ,  38.94736842,  32.52747253,\n",
       "       140.95238095,  48.52459016,  25.96491228,  32.52747253,\n",
       "        27.9245283 ,  95.48387097, 227.69230769])"
      ]
     },
     "execution_count": 7,
     "metadata": {},
     "output_type": "execute_result"
    }
   ],
   "source": [
    "foo = TRAIN_LABELS.groupby(by='label').size().to_frame('class_count').reset_index()\n",
    "bar = list(foo['class_count'])\n",
    "1 / (bar / np.sum(bar))"
   ]
  },
  {
   "cell_type": "code",
   "execution_count": 11,
   "id": "f6ffff0a-06e5-450a-8d1b-4dd4cd1a706b",
   "metadata": {},
   "outputs": [
    {
     "data": {
      "text/plain": [
       "tensor([580.0000,  31.1828,   8.7087,   3.8108,   4.1607, 725.0000,  27.6190,\n",
       "         17.3653,  23.5772, 145.0000,  39.1892,  32.5843, 138.0952,  48.3333,\n",
       "         25.8929,  32.5843,  27.8846,  96.6667, 223.0769])"
      ]
     },
     "execution_count": 11,
     "metadata": {},
     "output_type": "execute_result"
    }
   ],
   "source": [
    "generate_weights(TRAIN_LABELS)"
   ]
  },
  {
   "cell_type": "code",
   "execution_count": 9,
   "id": "c9d0a2a2-b743-492c-b3fe-4c0d953b39a5",
   "metadata": {},
   "outputs": [
    {
     "name": "stdout",
     "output_type": "stream",
     "text": [
      "Train dataset size: 5920\n",
      "Val dataset size: 300\n",
      "Test dataset size: 600\n"
     ]
    },
    {
     "data": {
      "text/html": [
       "<div>\n",
       "<style scoped>\n",
       "    .dataframe tbody tr th:only-of-type {\n",
       "        vertical-align: middle;\n",
       "    }\n",
       "\n",
       "    .dataframe tbody tr th {\n",
       "        vertical-align: top;\n",
       "    }\n",
       "\n",
       "    .dataframe thead th {\n",
       "        text-align: right;\n",
       "    }\n",
       "</style>\n",
       "<table border=\"1\" class=\"dataframe\">\n",
       "  <thead>\n",
       "    <tr style=\"text-align: right;\">\n",
       "      <th></th>\n",
       "      <th>label</th>\n",
       "      <th>label_desc</th>\n",
       "    </tr>\n",
       "  </thead>\n",
       "  <tbody>\n",
       "    <tr>\n",
       "      <th>0</th>\n",
       "      <td>0</td>\n",
       "      <td>Arm cover</td>\n",
       "    </tr>\n",
       "    <tr>\n",
       "      <th>1</th>\n",
       "      <td>1</td>\n",
       "      <td>Other rover part</td>\n",
       "    </tr>\n",
       "    <tr>\n",
       "      <th>2</th>\n",
       "      <td>2</td>\n",
       "      <td>Artifact</td>\n",
       "    </tr>\n",
       "    <tr>\n",
       "      <th>3</th>\n",
       "      <td>3</td>\n",
       "      <td>Nearby surface</td>\n",
       "    </tr>\n",
       "    <tr>\n",
       "      <th>4</th>\n",
       "      <td>4</td>\n",
       "      <td>Close-up rock</td>\n",
       "    </tr>\n",
       "    <tr>\n",
       "      <th>5</th>\n",
       "      <td>5</td>\n",
       "      <td>DRT</td>\n",
       "    </tr>\n",
       "    <tr>\n",
       "      <th>6</th>\n",
       "      <td>6</td>\n",
       "      <td>DRT spot</td>\n",
       "    </tr>\n",
       "    <tr>\n",
       "      <th>7</th>\n",
       "      <td>7</td>\n",
       "      <td>Distant landscape</td>\n",
       "    </tr>\n",
       "    <tr>\n",
       "      <th>8</th>\n",
       "      <td>8</td>\n",
       "      <td>Drill hole</td>\n",
       "    </tr>\n",
       "    <tr>\n",
       "      <th>9</th>\n",
       "      <td>9</td>\n",
       "      <td>Night sky</td>\n",
       "    </tr>\n",
       "    <tr>\n",
       "      <th>10</th>\n",
       "      <td>10</td>\n",
       "      <td>Float</td>\n",
       "    </tr>\n",
       "    <tr>\n",
       "      <th>11</th>\n",
       "      <td>11</td>\n",
       "      <td>Layers</td>\n",
       "    </tr>\n",
       "    <tr>\n",
       "      <th>12</th>\n",
       "      <td>12</td>\n",
       "      <td>Light-toned veins</td>\n",
       "    </tr>\n",
       "    <tr>\n",
       "      <th>13</th>\n",
       "      <td>13</td>\n",
       "      <td>Mastcam cal target</td>\n",
       "    </tr>\n",
       "    <tr>\n",
       "      <th>14</th>\n",
       "      <td>14</td>\n",
       "      <td>Sand</td>\n",
       "    </tr>\n",
       "    <tr>\n",
       "      <th>15</th>\n",
       "      <td>15</td>\n",
       "      <td>Sun</td>\n",
       "    </tr>\n",
       "    <tr>\n",
       "      <th>16</th>\n",
       "      <td>16</td>\n",
       "      <td>Wheel</td>\n",
       "    </tr>\n",
       "    <tr>\n",
       "      <th>17</th>\n",
       "      <td>17</td>\n",
       "      <td>Wheel joint</td>\n",
       "    </tr>\n",
       "    <tr>\n",
       "      <th>18</th>\n",
       "      <td>18</td>\n",
       "      <td>Wheel tracks</td>\n",
       "    </tr>\n",
       "  </tbody>\n",
       "</table>\n",
       "</div>"
      ],
      "text/plain": [
       "    label          label_desc\n",
       "0       0           Arm cover\n",
       "1       1    Other rover part\n",
       "2       2            Artifact\n",
       "3       3      Nearby surface\n",
       "4       4       Close-up rock\n",
       "5       5                 DRT\n",
       "6       6            DRT spot\n",
       "7       7   Distant landscape\n",
       "8       8          Drill hole\n",
       "9       9           Night sky\n",
       "10     10               Float\n",
       "11     11              Layers\n",
       "12     12   Light-toned veins\n",
       "13     13  Mastcam cal target\n",
       "14     14                Sand\n",
       "15     15                 Sun\n",
       "16     16               Wheel\n",
       "17     17         Wheel joint\n",
       "18     18        Wheel tracks"
      ]
     },
     "execution_count": 9,
     "metadata": {},
     "output_type": "execute_result"
    }
   ],
   "source": [
    "print(f'Train dataset size: {TRAIN_LABELS.shape[0]}')\n",
    "print(f'Val dataset size: {VAL_LABELS.shape[0]}')\n",
    "print(f'Test dataset size: {TEST_LABELS.shape[0]}')\n",
    "LABEL_DESC"
   ]
  },
  {
   "cell_type": "code",
   "execution_count": 10,
   "id": "b2f60e99-d895-41b9-a9f2-3552ad70a27e",
   "metadata": {},
   "outputs": [],
   "source": [
    "# This is to use the culled down 2900 samples Edwin used.\n",
    "TRAIN_LABELS = text2df('/home/kaipak/dev/simclr-experiments/data/msl-labeled-data-set-v2.1/paper_2900_train.txt',  \n",
    "                       df_desc=LABEL_DESC, label_set=\"train\")\n"
   ]
  },
  {
   "cell_type": "code",
   "execution_count": 12,
   "id": "cf99e3ea-3dc3-410b-a7a1-d6779db88a35",
   "metadata": {},
   "outputs": [],
   "source": [
    "#BASE_DIR = Path('/home/kaipak/datasets/msl-v2.1-full')\n",
    "BASE_DIR = Path('/home/kaipak/datasets/msl-v2.1-edwin')"
   ]
  },
  {
   "cell_type": "code",
   "execution_count": null,
   "id": "c04fcb17-0812-43f3-afd3-7beb32a76065",
   "metadata": {},
   "outputs": [],
   "source": [
    "# MSL Dataset Generator \n",
    "for dataset, df_set in {'train': TRAIN_LABELS, \n",
    "                        'validation': VAL_LABELS, \n",
    "                        'test': TEST_LABELS}.items():\n",
    "    dest_path = BASE_DIR / dataset\n",
    "    if dest_path.exists() and dest_path.is_dir():\n",
    "        shutil.rmtree(dest_path)\n",
    "    dest_path.mkdir(parents=True, exist_ok=True)\n",
    "    print(dest_path)\n",
    "    \n",
    "    # Make directories for all images\n",
    "    for label in LABEL_DESC.label_desc:\n",
    "        (dest_path / label).mkdir()\n",
    "    \n",
    "    for i, row in df_set.iterrows():\n",
    "        shutil.copy(BASE_IMG_PATH / row.img, dest_path / row.label_desc)"
   ]
  },
  {
   "cell_type": "code",
   "execution_count": 13,
   "id": "4a9f75c7-4b28-402a-8d09-0c5a7a3a1633",
   "metadata": {},
   "outputs": [
    {
     "name": "stdout",
     "output_type": "stream",
     "text": [
      "/home/kaipak/datasets/msl-v2.1-edwin\n"
     ]
    }
   ],
   "source": [
    "print(BASE_DIR)"
   ]
  },
  {
   "cell_type": "code",
   "execution_count": 14,
   "id": "0d3bde32-dc15-4fef-beb9-c32ee958288a",
   "metadata": {},
   "outputs": [],
   "source": [
    "bs = 64\n",
    "train_images = torchvision.datasets.ImageFolder(BASE_DIR / 'train',\n",
    "                                                transform=TransformsSimCLR(size=args.image_size).test_transform)\n",
    "valid_images = torchvision.datasets.ImageFolder(BASE_DIR / 'validation',\n",
    "                                                transform=TransformsSimCLR(size=args.image_size).test_transform)\n",
    "test_images = torchvision.datasets.ImageFolder(BASE_DIR / 'test', \n",
    "                                               transform=TransformsSimCLR(size=args.image_size).test_transform)\n",
    "train_loader = torch.utils.data.DataLoader(train_images, batch_size=bs, shuffle=True)\n",
    "valid_loader = torch.utils.data.DataLoader(valid_images, batch_size=bs, shuffle=True)\n",
    "test_loader = torch.utils.data.DataLoader(test_images, batch_size=bs, shuffle=True)"
   ]
  },
  {
   "cell_type": "code",
   "execution_count": 15,
   "id": "9065a08c-256e-4aa1-a74f-6dabff537bc4",
   "metadata": {},
   "outputs": [
    {
     "data": {
      "text/plain": [
       "2944"
      ]
     },
     "execution_count": 15,
     "metadata": {},
     "output_type": "execute_result"
    }
   ],
   "source": [
    "len(train_loader) * bs"
   ]
  },
  {
   "cell_type": "markdown",
   "id": "57d07a50-42dd-4d5d-ad30-0c8c4c1d0d68",
   "metadata": {},
   "source": [
    "## Model\n",
    "We will use the Tensorflow converted contrastive learning weights, then use for our SimCLRv2 fine tuning model."
   ]
  },
  {
   "cell_type": "code",
   "execution_count": 16,
   "id": "f3c5703c-5c2b-4056-8347-3a97f9585b14",
   "metadata": {},
   "outputs": [
    {
     "name": "stdout",
     "output_type": "stream",
     "text": [
      "Let's use 4 GPUs!\n"
     ]
    }
   ],
   "source": [
    "n_classes = len(train_loader.dataset.classes)\n",
    "#simclr_model = SimCLRv2(resnet_depth=50, resnet_width_multiplier=2, sk_ratio=0.0625, \n",
    "#                        pretrained_weights='/home/kaipak/models/SimCLRv2/r50_2x_sk1.pth')\n",
    "simclr_model = SimCLRv2(resnet_depth=101, resnet_width_multiplier=2, sk_ratio=0.0625, \n",
    "                        pretrained_weights='/home/kaipak/models/SimCLRv2/r101_2x_sk1.pth')\n",
    "simclr_model_ft = SimCLRv2_ft(simclr_model, n_classes)\n",
    "\n",
    "if torch.cuda.device_count() > 1:\n",
    "  print(\"Let's use\", torch.cuda.device_count(), \"GPUs!\")\n",
    "  simclr_model_ngpu = nn.DataParallel(simclr_model_ft)\n",
    "\n",
    "simclr_model = simclr_model_ngpu.to(args.device)"
   ]
  },
  {
   "cell_type": "code",
   "execution_count": 17,
   "id": "29250e10-e0d5-4c8a-b775-417937c66d99",
   "metadata": {},
   "outputs": [],
   "source": [
    "# simclr_model.load_state_dict(torch.load('kai_model.pt'))"
   ]
  },
  {
   "cell_type": "code",
   "execution_count": 18,
   "id": "1ce22e94-ac71-491b-9a7f-81bc41c98330",
   "metadata": {},
   "outputs": [],
   "source": [
    "def train(args, loader, model, criterion, optimizer, writer, print_every=10):\n",
    "    \"\"\"Train evaluation model\"\"\"\n",
    "    epoch_loss = 0\n",
    "    epoch_accuracy = 0\n",
    "    epoch_tp = 0 # True positives\n",
    "    epoch_total = 0 # Total samples tested\n",
    "    model.train()\n",
    "    \n",
    "    for step, input in enumerate(loader):\n",
    "        optimizer.zero_grad()\n",
    "        X, y = input\n",
    "        X = X.cuda(non_blocking=True)\n",
    "        y = y.cuda(non_blocking=True)\n",
    "        \n",
    "        output = model(X)\n",
    "        step_loss = criterion(output, y)\n",
    "        \n",
    "        predicted = output.argmax(1)\n",
    "        step_accuracy = (predicted == y).sum().item() / y.size(0)\n",
    "        epoch_tp += (predicted == y).sum().item()\n",
    "        epoch_total += y.size(0)\n",
    "        epoch_accuracy += step_accuracy\n",
    "        \n",
    "        step_loss.backward()\n",
    "        optimizer.step()\n",
    "        \n",
    "        epoch_loss += step_loss.item()\n",
    "        writer.add_scalar(\"Step accuracy/train_step\", step_accuracy, args.global_step)\n",
    "        args.global_step += 1\n",
    "        \n",
    "        if step % print_every == 0:\n",
    "            print(f\"Step [{step}/{len(loader)}]\\t Accuracy {step_accuracy}...\")\n",
    "    \n",
    "    epoch_accuracy = epoch_tp / epoch_total\n",
    "    writer.add_scalar(\"Loss/train_epoch\", epoch_loss, args.current_epoch)\n",
    "\n",
    "    return epoch_loss, epoch_accuracy\n",
    "\n",
    "def test(args, loader, model, criterion, optimizer):\n",
    "    epoch_loss = 0\n",
    "    epoch_accuracy = 0\n",
    "    model.eval()\n",
    "    \n",
    "    with torch.no_grad():\n",
    "        for step, (x, y) in enumerate(loader):\n",
    "            # model.zero_grad()\n",
    "\n",
    "            x = x.to(args.device)\n",
    "            y = y.to(args.device)\n",
    "\n",
    "            output = model(x)\n",
    "            step_loss = criterion(output, y)\n",
    "\n",
    "            predicted = output.argmax(1)\n",
    "            step_accuracy = (predicted == y).sum().item() / y.size(0)\n",
    "            epoch_accuracy += step_accuracy\n",
    "\n",
    "            epoch_loss += step_loss.item()\n",
    "    \n",
    "    return epoch_loss, epoch_accuracy"
   ]
  },
  {
   "cell_type": "code",
   "execution_count": 19,
   "id": "a99ca03f-abc1-46c4-975a-0954fb35dab0",
   "metadata": {},
   "outputs": [
    {
     "name": "stdout",
     "output_type": "stream",
     "text": [
      "LARS learning rate computed at: 0.15\n"
     ]
    },
    {
     "name": "stderr",
     "output_type": "stream",
     "text": [
      "2021-10-07 15:31:51.654554: I tensorflow/stream_executor/platform/default/dso_loader.cc:44] Successfully opened dynamic library libcudart.so.10.2\n",
      "2021-10-07 15:31:52.507115: I tensorflow/stream_executor/platform/default/dso_loader.cc:44] Successfully opened dynamic library libnvinfer.so.7\n",
      "2021-10-07 15:31:52.507227: I tensorflow/stream_executor/platform/default/dso_loader.cc:44] Successfully opened dynamic library libnvinfer_plugin.so.7\n"
     ]
    }
   ],
   "source": [
    "optimizer, scheduler = load_optimizer(args, simclr_model)\n",
    "weights = generate_weights(TRAIN_LABELS).cuda(non_blocking=True)\n",
    "criterion = torch.nn.CrossEntropyLoss(weight=weights)\n",
    "writer = SummaryWriter(log_dir='/home/kaipak/models/runs')"
   ]
  },
  {
   "cell_type": "code",
   "execution_count": 20,
   "id": "66c7ad77-4ad7-4009-9ba0-f17aa4d1acb7",
   "metadata": {},
   "outputs": [
    {
     "data": {
      "text/plain": [
       "46"
      ]
     },
     "execution_count": 20,
     "metadata": {},
     "output_type": "execute_result"
    }
   ],
   "source": [
    "len(train_loader)"
   ]
  },
  {
   "cell_type": "code",
   "execution_count": 21,
   "id": "803bf97f-4417-4130-a811-0a4105478e43",
   "metadata": {},
   "outputs": [
    {
     "name": "stdout",
     "output_type": "stream",
     "text": [
      "Step [0/46]\t Accuracy 0.046875...\n",
      "Step [20/46]\t Accuracy 0.4375...\n",
      "Step [40/46]\t Accuracy 0.75...\n",
      "Epoch [0/20]\t Loss: 1.1680517196655273\t Accuracy: 0.40551724137931033\n",
      "Step [0/46]\t Accuracy 0.671875...\n",
      "Step [20/46]\t Accuracy 0.734375...\n",
      "Step [40/46]\t Accuracy 0.671875...\n",
      "Epoch [1/20]\t Loss: 0.3452766497174035\t Accuracy: 0.7479310344827587\n",
      "Step [0/46]\t Accuracy 0.796875...\n",
      "Step [20/46]\t Accuracy 0.796875...\n",
      "Step [40/46]\t Accuracy 0.796875...\n",
      "Epoch [2/20]\t Loss: 0.19671036189664964\t Accuracy: 0.8320689655172414\n",
      "Step [0/46]\t Accuracy 0.90625...\n",
      "Step [20/46]\t Accuracy 0.921875...\n",
      "Step [40/46]\t Accuracy 0.90625...\n",
      "Epoch [3/20]\t Loss: 0.11935129283886889\t Accuracy: 0.8917241379310344\n",
      "Step [0/46]\t Accuracy 0.96875...\n",
      "Step [20/46]\t Accuracy 0.9375...\n",
      "Step [40/46]\t Accuracy 0.953125...\n",
      "Epoch [4/20]\t Loss: 0.064459804850428\t Accuracy: 0.9265517241379311\n",
      "Step [0/46]\t Accuracy 0.953125...\n",
      "Step [20/46]\t Accuracy 0.984375...\n",
      "Step [40/46]\t Accuracy 0.9375...\n",
      "Epoch [5/20]\t Loss: 0.05186355575595213\t Accuracy: 0.95\n",
      "Step [0/46]\t Accuracy 0.90625...\n",
      "Step [20/46]\t Accuracy 0.953125...\n",
      "Step [40/46]\t Accuracy 1.0...\n",
      "Epoch [6/20]\t Loss: 0.04335600600334937\t Accuracy: 0.9679310344827586\n",
      "Step [0/46]\t Accuracy 0.984375...\n",
      "Step [20/46]\t Accuracy 1.0...\n",
      "Step [40/46]\t Accuracy 1.0...\n",
      "Epoch [7/20]\t Loss: 0.02816743528186951\t Accuracy: 0.9741379310344828\n",
      "Step [0/46]\t Accuracy 0.984375...\n",
      "Step [20/46]\t Accuracy 0.984375...\n",
      "Step [40/46]\t Accuracy 0.96875...\n",
      "Epoch [8/20]\t Loss: 0.028144991974366585\t Accuracy: 0.983103448275862\n",
      "Step [0/46]\t Accuracy 1.0...\n",
      "Step [20/46]\t Accuracy 0.96875...\n",
      "Step [40/46]\t Accuracy 0.984375...\n",
      "Epoch [9/20]\t Loss: 0.02805072430814819\t Accuracy: 0.9796551724137931\n",
      "Step [0/46]\t Accuracy 1.0...\n",
      "Step [20/46]\t Accuracy 0.96875...\n",
      "Step [40/46]\t Accuracy 1.0...\n",
      "Epoch [10/20]\t Loss: 0.014941980535893337\t Accuracy: 0.99\n",
      "Step [0/46]\t Accuracy 1.0...\n",
      "Step [20/46]\t Accuracy 1.0...\n",
      "Step [40/46]\t Accuracy 1.0...\n",
      "Epoch [11/20]\t Loss: 0.015854371468341687\t Accuracy: 0.9872413793103448\n",
      "Step [0/46]\t Accuracy 0.984375...\n",
      "Step [20/46]\t Accuracy 1.0...\n",
      "Step [40/46]\t Accuracy 0.96875...\n",
      "Epoch [12/20]\t Loss: 0.010345894262528695\t Accuracy: 0.9875862068965517\n",
      "Step [0/46]\t Accuracy 0.984375...\n",
      "Step [20/46]\t Accuracy 1.0...\n",
      "Step [40/46]\t Accuracy 0.96875...\n",
      "Epoch [13/20]\t Loss: 0.010849119140007331\t Accuracy: 0.9875862068965517\n",
      "Step [0/46]\t Accuracy 1.0...\n",
      "Step [20/46]\t Accuracy 1.0...\n",
      "Step [40/46]\t Accuracy 1.0...\n",
      "Epoch [14/20]\t Loss: 0.042488677406926516\t Accuracy: 0.9858620689655172\n",
      "Step [0/46]\t Accuracy 1.0...\n",
      "Step [20/46]\t Accuracy 1.0...\n",
      "Step [40/46]\t Accuracy 0.984375...\n",
      "Epoch [15/20]\t Loss: 0.006838060014516763\t Accuracy: 0.993103448275862\n",
      "Step [0/46]\t Accuracy 1.0...\n",
      "Step [20/46]\t Accuracy 1.0...\n",
      "Step [40/46]\t Accuracy 0.96875...\n",
      "Epoch [16/20]\t Loss: 0.01178335142654048\t Accuracy: 0.9920689655172413\n",
      "Step [0/46]\t Accuracy 0.984375...\n",
      "Step [20/46]\t Accuracy 1.0...\n",
      "Step [40/46]\t Accuracy 1.0...\n",
      "Epoch [17/20]\t Loss: 0.07330091308840961\t Accuracy: 0.993448275862069\n",
      "Step [0/46]\t Accuracy 1.0...\n",
      "Step [20/46]\t Accuracy 0.984375...\n",
      "Step [40/46]\t Accuracy 0.984375...\n",
      "Epoch [18/20]\t Loss: 0.01000946861044529\t Accuracy: 0.993448275862069\n",
      "Step [0/46]\t Accuracy 1.0...\n",
      "Step [20/46]\t Accuracy 1.0...\n",
      "Step [40/46]\t Accuracy 1.0...\n",
      "Epoch [19/20]\t Loss: 0.00791236114298005\t Accuracy: 0.996551724137931\n",
      "| ID | GPU | MEM |\n",
      "------------------\n",
      "|  0 | 24% | 81% |\n",
      "|  1 |  0% | 68% |\n",
      "|  2 |  0% | 68% |\n",
      "|  3 |  0% | 68% |\n",
      "[FINAL]\t Loss: 2.0500597029924394\t Accuracy: 0.8015625\n",
      "CPU times: user 6h 5min 14s, sys: 4min 36s, total: 6h 9min 51s\n",
      "Wall time: 21min 41s\n"
     ]
    }
   ],
   "source": [
    "%%time\n",
    "args.global_step = 0\n",
    "args.current_epoch = 0\n",
    "epochs = 20 \n",
    "tb_writer =  SummaryWriter(log_dir=f'/home/kaipak/models/tensorboard_logs/' +\n",
    "                           f'{datetime.now().strftime(\"%Y%m%d-%H%M%S\")}')\n",
    "\n",
    "for epoch in range(epochs):\n",
    "    loss_epoch, accuracy_epoch = train(args, train_loader, simclr_model, \n",
    "                                       criterion, optimizer, tb_writer, print_every=20)\n",
    "    accuracy_epoch = accuracy_epoch\n",
    "    loss_epoch = loss_epoch / len(train_loader)\n",
    "    print(f\"Epoch [{epoch}/{epochs}]\\t \"\n",
    "          f\"Loss: {loss_epoch}\\t \"\n",
    "          f\"Accuracy: {accuracy_epoch}\")\n",
    "    tb_writer.add_scalar(\"Accuracy/train_epoch\", accuracy_epoch, args.current_epoch)\n",
    "    args.current_epoch += 1\n",
    "\n",
    "showUtilization()\n",
    "torch.cuda.empty_cache()\n",
    "\n",
    "loss_epoch, accuracy_epoch = test(\n",
    "    args, test_loader, simclr_model, criterion, optimizer\n",
    ")\n",
    "\n",
    "print(f\"[FINAL]\\t Loss: {loss_epoch / len(test_loader)}\\t \"\n",
    "      f\"Accuracy: {accuracy_epoch / len(test_loader)}\")"
   ]
  },
  {
   "cell_type": "code",
   "execution_count": 22,
   "id": "72e51aee-e141-452b-85b6-ead6cd99c0f5",
   "metadata": {},
   "outputs": [],
   "source": [
    "preds = []\n",
    "y_true = []\n",
    "\n",
    "for step, (x, y) in enumerate(test_loader):\n",
    "    simclr_model.eval()\n",
    "    with torch.no_grad():\n",
    "        x = x.to(args.device)\n",
    "        y = y.to(args.device)\n",
    "        y_true.extend(y.tolist())\n",
    "\n",
    "        output = simclr_model(x)\n",
    "        pred = output.argmax(1)\n",
    "        preds.extend(pred.tolist())\n",
    "     "
   ]
  },
  {
   "cell_type": "code",
   "execution_count": 23,
   "id": "919e5105-73b4-4641-b2f3-843efade059d",
   "metadata": {},
   "outputs": [],
   "source": [
    "torch.cuda.empty_cache()"
   ]
  },
  {
   "cell_type": "code",
   "execution_count": 24,
   "id": "f5024b7e-9b8e-4d54-8269-01958e753ac6",
   "metadata": {
    "tags": []
   },
   "outputs": [
    {
     "data": {
      "text/plain": [
       "<AxesSubplot:>"
      ]
     },
     "execution_count": 24,
     "metadata": {},
     "output_type": "execute_result"
    },
    {
     "data": {
      "image/png": "[encoded data removed]",
      "text/plain": [
       "<Figure size 1080x720 with 2 Axes>"
      ]
     },
     "metadata": {
      "needs_background": "light"
     },
     "output_type": "display_data"
    }
   ],
   "source": [
    "from sklearn.metrics import accuracy_score, classification_report, confusion_matrix\n",
    "from sklearn.metrics import classification_report\n",
    "\n",
    "fig, ax = plt.subplots(figsize=(15, 10))\n",
    "sns.heatmap(pd.DataFrame(confusion_matrix(y_true, preds, normalize='true'), \n",
    "                         LABEL_DESC.loc[LABEL_DESC.label.isin(y_true)].label_desc.values, \n",
    "                         LABEL_DESC.loc[LABEL_DESC.label.isin(y_true)].label_desc.values), annot=True, ax=ax)"
   ]
  },
  {
   "cell_type": "code",
   "execution_count": 25,
   "id": "7b8cf091-dd7c-49a7-9e81-86b65cb53e2d",
   "metadata": {},
   "outputs": [
    {
     "name": "stdout",
     "output_type": "stream",
     "text": [
      "                    precision    recall  f1-score   support\n",
      "\n",
      "         Arm cover     1.0000    1.0000    1.0000         4\n",
      "  Other rover part     0.8411    0.9621    0.8975       132\n",
      "          Artifact     0.6481    0.8333    0.7292        84\n",
      "    Nearby surface     1.0000    0.6667    0.8000         6\n",
      "     Close-up rock     0.0000    0.0000    0.0000         7\n",
      "               DRT     0.8333    0.7353    0.7812        34\n",
      "          DRT spot     0.7778    0.5833    0.6667        12\n",
      " Distant landscape     0.0000    0.0000    0.0000         1\n",
      "        Drill hole     0.7500    0.1765    0.2857        17\n",
      "         Night sky     0.0000    0.0000    0.0000        27\n",
      "             Float     1.0000    1.0000    1.0000        29\n",
      "            Layers     0.8374    0.9091    0.8718       187\n",
      " Light-toned veins     0.5000    0.2500    0.3333         4\n",
      "Mastcam cal target     0.8000    0.8000    0.8000        10\n",
      "              Sand     0.4348    0.6250    0.5128        16\n",
      "               Sun     0.9167    0.5789    0.7097        19\n",
      "             Wheel     0.8333    1.0000    0.9091         5\n",
      "       Wheel joint     1.0000    0.8000    0.8889         5\n",
      "      Wheel tracks     0.0000    0.0000    0.0000         1\n",
      "\n",
      "          accuracy                         0.7967       600\n",
      "         macro avg     0.6407    0.5748    0.5887       600\n",
      "      weighted avg     0.7584    0.7967    0.7666       600\n",
      "\n"
     ]
    }
   ],
   "source": [
    "print(classification_report(y_true, preds, \n",
    "                            target_names=LABEL_DESC.loc[LABEL_DESC.label.isin(y_true)].label_desc.values,\n",
    "                            digits=4, zero_division=0))"
   ]
  },
  {
   "cell_type": "code",
   "execution_count": 26,
   "id": "6592b201-fcaa-42bd-b12a-e8d0b46ac16e",
   "metadata": {},
   "outputs": [
    {
     "data": {
      "text/plain": [
       "array(['Arm cover', 'Other rover part', 'Artifact', 'Nearby surface',\n",
       "       'Close-up rock', 'DRT', 'DRT spot', 'Distant landscape',\n",
       "       'Drill hole', 'Night sky', 'Float', 'Layers', 'Light-toned veins',\n",
       "       'Mastcam cal target', 'Sand', 'Sun', 'Wheel', 'Wheel joint',\n",
       "       'Wheel tracks'], dtype=object)"
      ]
     },
     "execution_count": 26,
     "metadata": {},
     "output_type": "execute_result"
    }
   ],
   "source": [
    "LABEL_DESC.loc[LABEL_DESC.label.isin(y_true)].label_desc.values"
   ]
  },
  {
   "cell_type": "code",
   "execution_count": 27,
   "id": "292ba7c4-37e8-4f63-94b1-ba4144fba50e",
   "metadata": {},
   "outputs": [
    {
     "data": {
      "text/plain": [
       "array(['Arm cover', 'Other rover part', 'Artifact', 'Nearby surface',\n",
       "       'Close-up rock', 'DRT', 'DRT spot', 'Distant landscape',\n",
       "       'Drill hole', 'Night sky', 'Float', 'Layers', 'Light-toned veins',\n",
       "       'Mastcam cal target', 'Sand', 'Sun', 'Wheel', 'Wheel joint',\n",
       "       'Wheel tracks'], dtype=object)"
      ]
     },
     "execution_count": 27,
     "metadata": {},
     "output_type": "execute_result"
    }
   ],
   "source": [
    "LABEL_DESC.loc[LABEL_DESC.label.isin(y_true)].label_desc.values"
   ]
  },
  {
   "cell_type": "code",
   "execution_count": 28,
   "id": "60a9ca7c-f0d6-429f-846f-42855e6f8b13",
   "metadata": {},
   "outputs": [],
   "source": [
    "import csv\n",
    "\n",
    "def read_class_label_map(csv_file):\n",
    "    assert os.path.isfile(\n",
    "        csv_file\n",
    "    ), f\"Provided file {csv_file} is not a valid CSV file.\"\n",
    "    reader = csv.reader(open(csv_file, \"r\"))\n",
    "    return {c: int(i) for (i, c) in reader}\n",
    "\n",
    "def get_files_and_labels(\n",
    "    folder: str, ext: str = \"png\", mapping: dict = None, metadata_file=None\n",
    "):\n",
    "\n",
    "    if metadata_file is not None:\n",
    "        lines = open(metadata_file, \"r\").readlines()\n",
    "        all_files = []\n",
    "        labels = []\n",
    "        for l in lines:\n",
    "            file_label = l.strip().split(f\".{ext}\")\n",
    "            file = file_label[0].strip() + f\".{ext}\"\n",
    "            if len(file.split(os.path.sep)) <= 1:\n",
    "                file = os.path.join(folder, file)\n",
    "            all_files.append(file)\n",
    "            labels.append(int(file_label[1].strip()))\n",
    "        idx_mapping = None\n",
    "    else:\n",
    "        path = os.path.join(os.path.abspath(folder), \"**\", f\"**.{ext}\")\n",
    "        all_files = glob(path, recursive=True)\n",
    "        all_files = [f for f in all_files if f\".{ext}\" in f]\n",
    "        assert len(all_files) > 0, f\"Couldn't find any files in {path}\"\n",
    "\n",
    "        if mapping is None:\n",
    "            #file_mapping --> file: class_index\n",
    "            # idx_mapping --> class: index\n",
    "            file_mapping, idx_mapping = infer_classes_from_filepaths(all_files)\n",
    "            mapping = idx_mapping\n",
    "\n",
    "        labels = [file_mapping[f] for f in all_files]\n",
    "    return list(zip(all_files, labels)), len(all_files), len(set(labels)), mapping\n"
   ]
  },
  {
   "cell_type": "code",
   "execution_count": 29,
   "id": "3a02caf9-e0cc-47d9-8faa-ae969e9d6040",
   "metadata": {},
   "outputs": [],
   "source": [
    "class_mapping = read_class_label_map(f'{BASE_PATH}/class_map.csv')\n",
    "X, num_files, num_classes, class_mapping = get_files_and_labels(\n",
    "   '/home/kaipak/datasets/msl-labeled-data-set-v2.1/images' , ext=\"jpg\", metadata_file='/home/kaipak/datasets/msl-labeled-data-set-v2.1/test-set-v2.1.txt', mapping=class_mapping\n",
    ")"
   ]
  },
  {
   "cell_type": "code",
   "execution_count": 30,
   "id": "a4237203-ebef-41a7-94dc-34cdbd6e25f5",
   "metadata": {},
   "outputs": [],
   "source": [
    "classes = list(class_mapping.keys())\n",
    "\n",
    "\n",
    "def plot_confusion_matrix(y_true, y_pred):\n",
    "    fig, ax = plt.subplots(figsize=(14, 10))\n",
    "\n",
    "    cm = sklearn.metrics.confusion_matrix(y_true, y_pred, labels=classes)\n",
    "    cm = pd.DataFrame(cm, index=classes, columns=classes)\n",
    "    accuracy = sklearn.metrics.accuracy_score(\n",
    "        y_true, y_pred, sample_weight=None)\n",
    "    cm.index.name = 'Actual'\n",
    "    cm.columns.name = 'Predicted'\n",
    "\n",
    "    sns.heatmap(cm, annot=True, cmap='viridis', fmt='.0f')\n",
    "    ax.set_title(\n",
    "        f\"Finetuned on full training data (2900 images) - overall accuracy: {100*accuracy:.2f}%\")\n",
    "\n",
    "    plt.tight_layout()\n",
    "#     plt.savefig(f\"{ckpt}_test.png\", transparent=True, bbox_inches='tight')\n",
    "    plt.show()\n",
    "    return fig, ax, cm, accuracy\n",
    "\n",
    "\n",
    "def set_font_size(ax, fontsize=12):\n",
    "    for item in ([ax.title, ax.xaxis.label, ax.yaxis.label] + ax.get_xticklabels() + ax.get_yticklabels()):\n",
    "        item.set_fontsize(fontsize)\n",
    "\n",
    "\n",
    "def plot_precision_vs_recall(y_true, y_pred):\n",
    "    fig, ax = plt.subplots(figsize=(10, 8))\n",
    "\n",
    "    cr = classification_report(\n",
    "        y_true, y_pred, target_names=classes, output_dict=True)\n",
    "    cr_df = pd.DataFrame.from_dict(cr).T\n",
    "\n",
    "    # add \"num_samples\" column to classification report - should be equivalent to \"Support\" column\n",
    "    num_examples = pd.DataFrame(\n",
    "        pd.DataFrame(\n",
    "            [classes[x[1]] for x in X],\n",
    "            columns=['class']).value_counts(),\n",
    "        columns=['num_samples']\n",
    "    ).reset_index()    \n",
    "    cr_df_with_counts = pd.merge(num_examples, cr_df.reset_index().rename(\n",
    "        columns={'index': 'class'}), how='inner')\n",
    "\n",
    "    mean_precision = cr_df.loc['macro avg', 'precision']\n",
    "    mean_recall = cr_df.loc['macro avg', 'recall']\n",
    "    mean_f1 = cr_df.loc['macro avg', 'f1-score']\n",
    "\n",
    "    class_order = [\n",
    "        'Arm cover', 'Other rover part', 'Artifact', 'Nearby surface',\n",
    "        'Close-up rock', 'DRT', 'DRT spot', 'Distant landscape', 'Drill hole',\n",
    "        'Night sky', 'Float', 'Layers', 'Light-toned veins', 'Mastcam cal target',\n",
    "        'Sand', 'Sun', 'Wheel', 'Wheel joint', 'Wheel tracks'\n",
    "    ]\n",
    "    marker_order = [\n",
    "        \"o\", \"v\", \"^\", \"<\", \">\", \"o\", \"s\", \"P\", \"p\", \"*\", \"X\", \"D\", \"d\", \"h\", \"H\", \"1\", \"2\", \"3\", \"4\"\n",
    "    ]\n",
    "    kiri_markers = {c: m for c, m in zip(class_order, marker_order)}\n",
    "    colors = list(plt.get_cmap('tab20').colors)\n",
    "    colors.pop(class_order.index('Night sky'))\n",
    "\n",
    "    cr_df_with_counts = cr_df_with_counts.sort_values(\n",
    "        by='class', key=lambda x: [class_order.index(xx) for xx in x])\n",
    "    for i in range(0, len(cr_df_with_counts)):\n",
    "        x = cr_df_with_counts.iat[i, 3]  # recall\n",
    "        y = cr_df_with_counts.iat[i, 2]  # precision\n",
    "        cls = cr_df_with_counts.iat[i, 0]  # class\n",
    "        n_min, n_max = cr_df_with_counts['num_samples'].min(\n",
    "        ), cr_df_with_counts['num_samples'].max()\n",
    "        s = 95\n",
    "        alpha = 0.5 if np.isclose(x, 0) and np.isclose(y, 0) else 1\n",
    "        label = cls + ' (at [0, 0])' if np.isclose(x,\n",
    "                                                   0) and np.isclose(y, 0) else cls\n",
    "        ax.scatter(x, y, s=s, c=[colors[i]],\n",
    "                   marker=kiri_markers[cls], label=label, alpha=alpha)\n",
    "\n",
    "    ax.set_xlabel('Recall')\n",
    "    ax.set_ylabel('Precision')\n",
    "    ax.set_xlim((-0.04, 1.04))\n",
    "    ax.set_ylim((-0.04, 1.04))\n",
    "    plt.grid(linestyle='--')\n",
    "    plt.legend(bbox_to_anchor=(1.05, 1), loc=2, borderaxespad=0.)\n",
    "    set_font_size(ax, 14)\n",
    "    plt.tight_layout()\n",
    "    ax.set_aspect(1.)\n",
    "    ax.text(\n",
    "        x=0.65,\n",
    "        y=0.05,\n",
    "        s=(f\"Mean precision: {mean_precision*100:.2f} %\\n\"\n",
    "           f\"Mean recall: {mean_recall*100:.2f} %\\n\"\n",
    "           f\"Mean F1: {mean_f1*100:.2f} %\")\n",
    "    )\n",
    "\n",
    "#     plt.savefig(f\"{ckpt}_precision_recall_test.png\", transparent=True, bbox_inches='tight')\n",
    "    plt.show()\n",
    "    return fig, ax, cr_df_with_counts, mean_precision, mean_recall"
   ]
  },
  {
   "cell_type": "code",
   "execution_count": 31,
   "id": "c57ea0aa-3468-4963-bd58-c70218389435",
   "metadata": {},
   "outputs": [
    {
     "name": "stderr",
     "output_type": "stream",
     "text": [
      "/home/kaipak/miniconda3/envs/pytorch/lib/python3.7/site-packages/sklearn/metrics/_classification.py:1248: UndefinedMetricWarning: Precision and F-score are ill-defined and being set to 0.0 in labels with no predicted samples. Use `zero_division` parameter to control this behavior.\n",
      "  _warn_prf(average, modifier, msg_start, len(result))\n",
      "/home/kaipak/miniconda3/envs/pytorch/lib/python3.7/site-packages/sklearn/metrics/_classification.py:1248: UndefinedMetricWarning: Precision and F-score are ill-defined and being set to 0.0 in labels with no predicted samples. Use `zero_division` parameter to control this behavior.\n",
      "  _warn_prf(average, modifier, msg_start, len(result))\n",
      "/home/kaipak/miniconda3/envs/pytorch/lib/python3.7/site-packages/sklearn/metrics/_classification.py:1248: UndefinedMetricWarning: Precision and F-score are ill-defined and being set to 0.0 in labels with no predicted samples. Use `zero_division` parameter to control this behavior.\n",
      "  _warn_prf(average, modifier, msg_start, len(result))\n"
     ]
    },
    {
     "data": {
      "image/png": "[encoded data removed]",
      "text/plain": [
       "<Figure size 720x576 with 1 Axes>"
      ]
     },
     "metadata": {
      "needs_background": "light"
     },
     "output_type": "display_data"
    },
    {
     "data": {
      "text/plain": [
       "(<Figure size 720x576 with 1 Axes>,\n",
       " <AxesSubplot:xlabel='Recall', ylabel='Precision'>,\n",
       "                  class  num_samples  precision    recall  f1-score  support\n",
       " 15           Arm cover            4   1.000000  1.000000  1.000000      4.0\n",
       " 10    Other rover part           10   0.841060  0.962121  0.897527    132.0\n",
       " 1             Artifact          132   0.648148  0.833333  0.729167     84.0\n",
       " 0       Nearby surface          187   1.000000  0.666667  0.800000      6.0\n",
       " 2        Close-up rock           84   0.000000  0.000000  0.000000      7.0\n",
       " 12                 DRT            6   0.833333  0.735294  0.781250     34.0\n",
       " 11            DRT spot            7   0.777778  0.583333  0.666667     12.0\n",
       " 3    Distant landscape           34   0.000000  0.000000  0.000000      1.0\n",
       " 9           Drill hole           12   0.750000  0.176471  0.285714     17.0\n",
       " 16           Night sky            4   0.000000  0.000000  0.000000     27.0\n",
       " 17               Float            1   1.000000  1.000000  1.000000     29.0\n",
       " 7               Layers           17   0.837438  0.909091  0.871795    187.0\n",
       " 5    Light-toned veins           27   0.500000  0.250000  0.333333      4.0\n",
       " 4   Mastcam cal target           29   0.800000  0.800000  0.800000     10.0\n",
       " 8                 Sand           16   0.434783  0.625000  0.512821     16.0\n",
       " 6                  Sun           19   0.916667  0.578947  0.709677     19.0\n",
       " 14               Wheel            5   0.833333  1.000000  0.909091      5.0\n",
       " 13         Wheel joint            5   1.000000  0.800000  0.888889      5.0\n",
       " 18        Wheel tracks            1   0.000000  0.000000  0.000000      1.0,\n",
       " 0.6406599944341704,\n",
       " 0.5747503962552032)"
      ]
     },
     "execution_count": 31,
     "metadata": {},
     "output_type": "execute_result"
    }
   ],
   "source": [
    "plot_precision_vs_recall(y_true, preds)"
   ]
  },
  {
   "cell_type": "code",
   "execution_count": null,
   "id": "5307e293-8327-4112-b7fa-bb02e62d31b6",
   "metadata": {},
   "outputs": [],
   "source": [
    "classes"
   ]
  },
  {
   "cell_type": "code",
   "execution_count": null,
   "id": "39a03a46-4c5b-448b-89dc-4fe1097d772b",
   "metadata": {},
   "outputs": [],
   "source": []
  }
 ],
 "metadata": {
  "kernelspec": {
   "display_name": "pytorch",
   "language": "python",
   "name": "pytorch"
  },
  "language_info": {
   "codemirror_mode": {
    "name": "ipython",
    "version": 3
   },
   "file_extension": ".py",
   "mimetype": "text/x-python",
   "name": "python",
   "nbconvert_exporter": "python",
   "pygments_lexer": "ipython3",
   "version": "3.7.11"
  }
 },
 "nbformat": 4,
 "nbformat_minor": 5
}
